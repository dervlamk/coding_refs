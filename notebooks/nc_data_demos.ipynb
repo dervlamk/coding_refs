{
 "cells": [
  {
   "cell_type": "code",
   "execution_count": 1,
   "id": "210c0b5a",
   "metadata": {},
   "outputs": [],
   "source": [
    "import os\n",
    "import sys\n",
    "# add path to custom functions\n",
    "module_path = os.path.abspath(os.path.join('..'))\n",
    "if module_path not in sys.path:\n",
    "    sys.path.append(module_path+\"/py_functions\")\n",
    "    \n",
    "import xarray as xr\n",
    "import netCDF4 as nc\n",
    "import numpy as np\n",
    "import metpy.calc as mp\n",
    "\n",
    "# import custom functions\n",
    "from map_plot_tools import *\n",
    "from line_plot_tools import *\n",
    "from colorbar_funcs import *\n",
    "from data_funcs import *\n",
    "\n",
    "# settings\n",
    "%config InlineBackend.figure_format = 'retina'"
   ]
  },
  {
   "cell_type": "code",
   "execution_count": 2,
   "id": "7d36e070",
   "metadata": {},
   "outputs": [],
   "source": [
    "### +++ import reference e2.1 grid +++ ###\n",
    "ref=xr.open_dataset('/Users/dervlamk/OneDrive/topo_biases/topo_files/Z2HX2fromZ1QX1N.BS1.nc').zatmo\n",
    "ref_lat=ref.lat\n",
    "ref_lon=ref.lon\n",
    "\n",
    "hr_data=xr.DataArray(1,\n",
    "                    dims=['latitude','longitude'],\n",
    "                    coords={'latitude':np.linspace(-90,90,181), 'longitude':np.linspace(0,360,361)})"
   ]
  },
  {
   "cell_type": "code",
   "execution_count": null,
   "id": "c8120d83",
   "metadata": {},
   "outputs": [],
   "source": [
    "## read in a data set with xarray\n",
    "# change dimension, variable, coordinate names\n",
    "# make a blank xarray data array\n",
    "# make a blank xarray data set\n",
    "# drop dimensions/variables\n",
    "# add attributes\n",
    "# regrid/interpolate data\n",
    "# slicing (i.e. selecting a lat/lon region)\n",
    "# indexing (i.e. where function)\n",
    "# transpose to re order dimensions\n",
    "# groupby to calculate seasonal/monthly climatologies\n",
    "# get model output data that is located near point (coordinate) data\n",
    "#      grid.sel(x=x_t, y=y_t, method='nearest') \n",
    "\n",
    "# get grid deltas/gradients"
   ]
  },
  {
   "cell_type": "code",
   "execution_count": null,
   "id": "a17362b0",
   "metadata": {},
   "outputs": [],
   "source": [
    "# Find the min/max of multiple arrays\n",
    "min(prec_obs.min(), prec_ctl.min())\n",
    "max(prec_obs.max(), prec_ctl.max())"
   ]
  }
 ],
 "metadata": {
  "kernelspec": {
   "display_name": "climate",
   "language": "python",
   "name": "climate"
  },
  "language_info": {
   "codemirror_mode": {
    "name": "ipython",
    "version": 3
   },
   "file_extension": ".py",
   "mimetype": "text/x-python",
   "name": "python",
   "nbconvert_exporter": "python",
   "pygments_lexer": "ipython3",
   "version": "3.11.6"
  }
 },
 "nbformat": 4,
 "nbformat_minor": 5
}
