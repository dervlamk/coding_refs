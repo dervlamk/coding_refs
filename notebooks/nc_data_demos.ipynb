{
 "cells": [
  {
   "cell_type": "code",
   "execution_count": 1,
   "id": "210c0b5a",
   "metadata": {},
   "outputs": [],
   "source": [
    "import os\n",
    "import sys\n",
    "# add path to custom functions\n",
    "module_path = os.path.abspath(os.path.join('..'))\n",
    "if module_path not in sys.path:\n",
    "    sys.path.append(module_path+\"/py_functions\")\n",
    "    \n",
    "import xarray as xr\n",
    "import netCDF4 as nc\n",
    "import numpy as np\n",
    "import metpy.calc as mp\n",
    "\n",
    "# import custom functions\n",
    "from map_plot_tools import *\n",
    "from line_plot_tools import *\n",
    "from colorbar_funcs import *\n",
    "from data_funcs import *\n",
    "\n",
    "# settings\n",
    "%config InlineBackend.figure_format = 'retina'"
   ]
  },
  {
   "cell_type": "code",
   "execution_count": 2,
   "id": "7d36e070",
   "metadata": {},
   "outputs": [],
   "source": [
    "### +++ import reference e2.1 grid +++ ###\n",
    "ref=xr.open_dataset('/Users/dervlamk/OneDrive/topo_biases/topo_files/Z2HX2fromZ1QX1N.BS1.nc').zatmo\n",
    "ref_lat=ref.lat\n",
    "ref_lon=ref.lon\n",
    "\n",
    "hr_data=xr.DataArray(1,\n",
    "                    dims=['latitude','longitude'],\n",
    "                    coords={'latitude':np.linspace(-90,90,181), 'longitude':np.linspace(0,360,361)})"
   ]
  },
  {
   "cell_type": "code",
   "execution_count": null,
   "id": "47b27f4f",
   "metadata": {},
   "outputs": [],
   "source": [
    "# make a blank xarray data array\n",
    "# make a blank xarray data set\n"
   ]
  },
  {
   "cell_type": "code",
   "execution_count": null,
   "id": "1c012276",
   "metadata": {},
   "outputs": [],
   "source": [
    "## read in a data set with xarray\n",
    "\n",
    "filen = f'{dpath}/filename.nc'\n",
    "\n",
    "ds = xr.open_dataset(filen)\n",
    "\n",
    "# extract a specific variable\n",
    "da = xr.open_dataset(filen).var_name\n",
    "da = xr.open_dataset(filen)['var_name']"
   ]
  },
  {
   "cell_type": "code",
   "execution_count": null,
   "id": "ce569f40",
   "metadata": {},
   "outputs": [],
   "source": [
    "## remove singleton dimension\n",
    "da = DataArray.squeeze(dim=None, drop=True)"
   ]
  },
  {
   "cell_type": "code",
   "execution_count": null,
   "id": "6214d7ae",
   "metadata": {},
   "outputs": [],
   "source": [
    "## Update data array info\n",
    "\n",
    "# drop dimensions/variables\n",
    "# add attributes\n",
    "# change dimension, variable, coordinate names\n",
    "\n",
    "# rename variables/dimensions\n",
    "dat = dat.rename({'grid_xt':'lon','grid_yt':'lat'})\n",
    "\n",
    "# add attributes\n",
    "dat.attrs['units']='deg_C'\n",
    "\n",
    "# delete attributes\n",
    "del dat.attrs[\"comment\"]\n",
    "\n",
    "# Remove coordinates\n",
    "dat = dat.drop_vars('lev')"
   ]
  },
  {
   "cell_type": "code",
   "execution_count": null,
   "id": "95c9a563",
   "metadata": {},
   "outputs": [],
   "source": [
    "# transpose to re order dimensions"
   ]
  },
  {
   "cell_type": "code",
   "execution_count": null,
   "id": "683a4f35",
   "metadata": {},
   "outputs": [],
   "source": [
    "# flip longitude convention\n",
    "\n",
    "# Convert to 0:360\n",
    "nx   = len(da.lon)\n",
    "lons = np.linspace(0,360,nx)\n",
    "da['lon'] = lons\n",
    "nroll = nx/2\n",
    "da = da.roll(lon=nroll).interp_like(match_array, method='linear')\n",
    "\n",
    "# Convert to -180:180\n",
    "nx   = len(da.lon)\n",
    "lons = np.linspace(-180,180,nx)\n",
    "da['lon'] = lons\n",
    "nroll = nx/2\n",
    "da = da.roll(lon=nroll).interp_like(match_array, method='linear')"
   ]
  },
  {
   "cell_type": "code",
   "execution_count": null,
   "id": "604071da",
   "metadata": {},
   "outputs": [],
   "source": [
    "# regrid/interpolate data\n",
    "\n",
    "# names of coordinates/dims are the same\n",
    "new_array = old_array.interp_like(match_array, method='linear') \n",
    "\n",
    "# don't have to match names\n",
    "lons = match_array.lon\n",
    "lats = match_array.lat\n",
    "new_array = old_array.interp(ETOPO_X=lons, ETOPO_Y=lats, method='linear') \n"
   ]
  },
  {
   "cell_type": "code",
   "execution_count": null,
   "id": "c8120d83",
   "metadata": {},
   "outputs": [],
   "source": [
    "# slicing (i.e. selecting a lat/lon region)\n",
    "# indexing (i.e. where function)\n",
    "\n",
    "\n",
    "# get model output data that is located near point (coordinate) data\n",
    "#      grid.sel(x=x_t, y=y_t, method='nearest') \n",
    "\n"
   ]
  },
  {
   "cell_type": "code",
   "execution_count": null,
   "id": "89cd2ece",
   "metadata": {},
   "outputs": [],
   "source": [
    "# get grid deltas/gradients"
   ]
  },
  {
   "cell_type": "code",
   "execution_count": null,
   "id": "038a1dfd",
   "metadata": {},
   "outputs": [],
   "source": [
    "# use group by to calculate climatologies\n",
    "# groupby to calculate seasonal/monthly climatologies\n",
    "\n",
    "dat.groupby(\"time.month\").mean()"
   ]
  },
  {
   "cell_type": "code",
   "execution_count": null,
   "id": "df2991b4",
   "metadata": {},
   "outputs": [],
   "source": [
    "# concatenate two decadal files\n",
    "imerg=xr.concat([imerg1,imerg2], dim='time')"
   ]
  },
  {
   "cell_type": "code",
   "execution_count": null,
   "id": "a17362b0",
   "metadata": {},
   "outputs": [],
   "source": [
    "# Find the min/max of multiple arrays\n",
    "min(prec_obs.min(), prec_ctl.min())\n",
    "max(prec_obs.max(), prec_ctl.max())"
   ]
  },
  {
   "cell_type": "code",
   "execution_count": null,
   "id": "eab4fc56",
   "metadata": {},
   "outputs": [],
   "source": [
    "# write netcdf\n",
    "ofile = f'{dpath0}/ts.MERRA2.E2.1_grid.monthly.nc'\n",
    "ts_obs.to_netcdf(ofile, mode='w')\n",
    "\n",
    "# append to netcdf\n",
    "swcrf_toa.to_netcdf(ofile, mode='a')"
   ]
  }
 ],
 "metadata": {
  "kernelspec": {
   "display_name": "climate",
   "language": "python",
   "name": "climate"
  },
  "language_info": {
   "codemirror_mode": {
    "name": "ipython",
    "version": 3
   },
   "file_extension": ".py",
   "mimetype": "text/x-python",
   "name": "python",
   "nbconvert_exporter": "python",
   "pygments_lexer": "ipython3",
   "version": "3.11.6"
  }
 },
 "nbformat": 4,
 "nbformat_minor": 5
}
